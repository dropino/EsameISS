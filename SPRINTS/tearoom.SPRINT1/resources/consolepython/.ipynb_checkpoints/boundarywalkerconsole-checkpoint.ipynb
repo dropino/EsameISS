{
 "cells": [
  {
   "cell_type": "markdown",
   "metadata": {},
   "source": [
    "## Command console for the trustingwalker"
   ]
  },
  {
   "cell_type": "code",
   "execution_count": null,
   "metadata": {},
   "outputs": [],
   "source": [
    "##############################################################\n",
    "# trustingwalkerconsole.py\n",
    "##############################################################\n",
    "\n",
    "import paho.mqtt.client as paho\n",
    "\n",
    "### brokerAddr =\"broker.hivemq.com\"\n",
    "brokerAddr =\"localhost\"\n",
    "\n",
    "#define callback\n",
    "def on_message(client, userdata, message):\n",
    "    print(\"received message =\",str(message.payload.decode(\"utf-8\")))\n",
    "\n",
    "def requestMovecell( x,y ):\n",
    "    msg = \"msg(movetoCell,request,py,trustingwalker,movetoCell(\"+x+\",\"+y+\"),1)\"\n",
    "    print(\"requestMovecell:\" , msg  )\n",
    "    client.publish(\"unibo/qak/trustingwalker\",msg) \n",
    "\n",
    "def forwardMsg( move ):\n",
    "    msg = \"msg(cmd,dispatch,py,trustingwalker,cmd(\"+str(move)+\"),1)\"\n",
    "    print(\"forwardMsg  forwardMsg= :\" , msg  )\n",
    "    client.publish(\"unibo/qak/trustingwalker\",msg) \n",
    "\n",
    "def console() :  \n",
    "    print(\"console  STARTS :\"   )\n",
    "    cmd =  str( input() )\n",
    "    while( cmd != \"q\"  ) :\n",
    "        #print( cmd )\n",
    "        if( cmd == \"g\" ) :\n",
    "            requestMovecell(\"5\",\"3\")\n",
    "        if( cmd == \"b\" ) :\n",
    "            requestMovecell(\"0\",\"0\")\n",
    "        cmd = str(input() )\n",
    "##################################################################\n",
    "\n",
    "client= paho.Client(\"pyconsole\")  \n",
    "client.on_message=on_message            # Bind function to callback    \n",
    "\n",
    "client.connect(brokerAddr)              #connect\n",
    "print(\"connected to broker \", brokerAddr)\n",
    "\n",
    "print(\"subscribing to unibo/polar\")\n",
    "client.subscribe(\"unibo/polar\")      #subscribe\n",
    "\n",
    "print(\"starting the client loop to receive sonar data\" )\n",
    "client.loop_start()                  #start loop to process received messages\n",
    " \n",
    "console()"
   ]
  },
  {
   "cell_type": "code",
   "execution_count": null,
   "metadata": {},
   "outputs": [],
   "source": []
  }
 ],
 "metadata": {
  "kernelspec": {
   "display_name": "Python 3",
   "language": "python",
   "name": "python3"
  },
  "language_info": {
   "codemirror_mode": {
    "name": "ipython",
    "version": 3
   },
   "file_extension": ".py",
   "mimetype": "text/x-python",
   "name": "python",
   "nbconvert_exporter": "python",
   "pygments_lexer": "ipython3",
   "version": "3.7.3"
  }
 },
 "nbformat": 4,
 "nbformat_minor": 2
}
