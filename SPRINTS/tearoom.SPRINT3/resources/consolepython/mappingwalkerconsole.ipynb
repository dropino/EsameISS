{
 "cells": [
  {
   "cell_type": "markdown",
   "metadata": {},
   "source": [
    "## Command console for the mappingwalker"
   ]
  },
  {
   "cell_type": "code",
   "execution_count": null,
   "metadata": {},
   "outputs": [
    {
     "name": "stdout",
     "output_type": "stream",
     "text": [
      "connected to broker  localhost\n",
      "subscribing to unibo/polar\n",
      "starting the client loop to receive sonar data\n",
      "console  STARTS :\n",
      "g\n",
      "forwardStartMsg : msg(start,dispatch,mwcpy,mappingwalker,start(go),9)\n",
      "received message = msg(polar,event,envsonarhandler,none,polar(30,180),511)\n",
      "received message = msg(polar,event,envsonarhandler,none,polar(30,180),518)\n",
      "received message = msg(polar,event,envsonarhandler,none,polar(25,180),525)\n",
      "received message = msg(polar,event,envsonarhandler,none,polar(25,180),529)\n",
      "received message = msg(obstacle,event,basicrobot,none,obstacle(unknown),548)\n",
      "received message = msg(polar,event,basicrobot,none,polar(10,90),549)\n",
      "received message = msg(polar,event,envsonarhandler,none,polar(25,180),561)\n",
      "received message = msg(polar,event,envsonarhandler,none,polar(24,180),570)\n",
      "received message = msg(polar,event,envsonarhandler,none,polar(20,180),577)\n",
      "received message = msg(polar,event,envsonarhandler,none,polar(20,180),579)\n",
      "received message = msg(polar,event,envsonarhandler,none,polar(16,180),597)\n",
      "received message = msg(polar,event,envsonarhandler,none,polar(16,180),604)\n",
      "received message = msg(polar,event,envsonarhandler,none,polar(16,180),606)\n",
      "received message = msg(obstacle,event,basicrobot,none,obstacle(unknown),625)\n",
      "received message = msg(polar,event,basicrobot,none,polar(10,90),626)\n",
      "received message = msg(polar,event,envsonarhandler,none,polar(14,180),638)\n",
      "received message = msg(polar,event,envsonarhandler,none,polar(14,180),647)\n",
      "received message = msg(polar,event,envsonarhandler,none,polar(10,180),654)\n",
      "received message = msg(polar,event,envsonarhandler,none,polar(10,180),656)\n",
      "received message = msg(polar,event,envsonarhandler,none,polar(5,180),674)\n",
      "received message = msg(polar,event,envsonarhandler,none,polar(5,180),681)\n",
      "received message = msg(polar,event,envsonarhandler,none,polar(5,180),683)\n",
      "received message = msg(polar,event,envsonarhandler,none,polar(5,180),708)\n"
     ]
    }
   ],
   "source": [
    "##############################################################\n",
    "# trustingwalkerconsole.py\n",
    "# ACTIVATE it.unibo.qak20.robotroommap\\src\\it\\unibo\\ctxmappingwalker\\MainCtxmappingwalker.kt\n",
    "##############################################################\n",
    "\n",
    "import paho.mqtt.client as paho\n",
    "\n",
    "### brokerAddr =\"broker.hivemq.com\"\n",
    "brokerAddr =\"localhost\"\n",
    "\n",
    "#define callback\n",
    "def on_message(client, userdata, message):\n",
    "    print(\"received message =\",str(message.payload.decode(\"utf-8\")))\n",
    "\n",
    "def forwardStartMsg( ):\n",
    "    msg = \"msg(start,dispatch,mwcpy,mappingwalker,start(go),9)\"\n",
    "    print(\"forwardStartMsg :\" , msg  )\n",
    "    client.publish(\"unibo/qak/mappingwalker\",msg) \n",
    "\n",
    "def console() :  \n",
    "    print(\"console  STARTS :\"   )\n",
    "    cmd =  str( input() )\n",
    "    while( cmd != \"q\"  ) :\n",
    "        #print( cmd )\n",
    "        if( cmd == \"g\" ) :\n",
    "            forwardStartMsg( )\n",
    "        cmd = str(input() )\n",
    "##################################################################\n",
    "\n",
    "client= paho.Client(\"pyconsole\")  \n",
    "client.on_message=on_message            # Bind function to callback    \n",
    "\n",
    "client.connect(brokerAddr)              #connect\n",
    "print(\"connected to broker \", brokerAddr)\n",
    "\n",
    "print(\"subscribing to unibo/polar\")\n",
    "client.subscribe(\"unibo/polar\")      #subscribe\n",
    "\n",
    "print(\"starting the client loop to receive sonar data\" )\n",
    "client.loop_start()                  #start loop to process received messages\n",
    " \n",
    "console()"
   ]
  },
  {
   "cell_type": "code",
   "execution_count": null,
   "metadata": {},
   "outputs": [],
   "source": []
  }
 ],
 "metadata": {
  "kernelspec": {
   "display_name": "Python 3",
   "language": "python",
   "name": "python3"
  },
  "language_info": {
   "codemirror_mode": {
    "name": "ipython",
    "version": 3
   },
   "file_extension": ".py",
   "mimetype": "text/x-python",
   "name": "python",
   "nbconvert_exporter": "python",
   "pygments_lexer": "ipython3",
   "version": "3.7.3"
  }
 },
 "nbformat": 4,
 "nbformat_minor": 2
}
