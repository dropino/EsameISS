{
 "cells": [
  {
   "cell_type": "markdown",
   "metadata": {},
   "source": [
    "## Command console for the trustingwalker"
   ]
  },
  {
   "cell_type": "code",
   "execution_count": 1,
   "metadata": {},
   "outputs": [
    {
     "name": "stdout",
     "output_type": "stream",
     "text": [
      "connected to broker  mqtt.eclipse.org\n",
      "subscribing to unibo/polar\n",
      "starting the client loop to receive sonar data\n",
      "console  STARTS :\n",
      "0,5\n",
      "requestMovecell done: msg(movetoCell,request,py,trustingwalker,movetoCell(0,5),1)\n",
      "5,0\n",
      "requestMovecell done: msg(movetoCell,request,py,trustingwalker,movetoCell(5,0),1)\n",
      "received message = msg(atcell,reply,trustingwalker,py,atcell(5,0),47)\n",
      "3,3\n",
      "requestMovecell done: msg(movetoCell,request,py,trustingwalker,movetoCell(3,3),1)\n",
      "received message = msg(polar,event,envsonarhandler,none,polar(17,180),196)\n",
      "received message = msg(polar,event,envsonarhandler,none,polar(17,180),203)\n",
      "received message = msg(atcell,reply,trustingwalker,py,atcell(3,3),56)\n",
      "received message = msg(twstarted,event,trustingwalker,none,twstarted(0),10)\n",
      "received message = msg(twstarted,event,trustingwalker,none,twstarted(0),10)\n",
      "received message = msg(twstarted,event,trustingwalker,none,twstarted(0),10)\n",
      "received message = msg(twstarted,event,trustingwalker,none,twstarted(0),10)\n",
      "received message = msg(polar,event,envsonarhandler,none,polar(4,180),57)\n",
      "received message = msg(polar,event,envsonarhandler,none,polar(30,180),129)\n",
      "received message = msg(polar,event,envsonarhandler,none,polar(30,180),138)\n",
      "5,0\n",
      "requestMovecell done: msg(movetoCell,request,py,trustingwalker,movetoCell(5,0),1)\n",
      "received message = msg(atcell,reply,trustingwalker,py,atcell(5,0),47)\n",
      "0,5\n",
      "requestMovecell done: msg(movetoCell,request,py,trustingwalker,movetoCell(0,5),1)\n",
      "received message = msg(walkbreak,reply,trustingwalker,py,walkbreak(0,5),48)\n",
      "0,4\n",
      "requestMovecell done: msg(movetoCell,request,py,trustingwalker,movetoCell(0,4),1)\n",
      "received message = msg(polar,event,envsonarhandler,none,polar(8,180),182)\n",
      "received message = msg(polar,event,envsonarhandler,none,polar(8,180),189)\n",
      "received message = msg(atcell,reply,trustingwalker,py,atcell(0,4),60)\n",
      "0,0\n",
      "requestMovecell done: msg(movetoCell,request,py,trustingwalker,movetoCell(0,0),1)\n",
      "received message = msg(polar,event,envsonarhandler,none,polar(30,180),263)\n",
      "received message = msg(polar,event,envsonarhandler,none,polar(30,180),272)\n",
      "received message = msg(atcell,reply,trustingwalker,py,atcell(0,0),66)\n",
      "q\n",
      "received message = msg(twstarted,event,trustingwalker,none,twstarted(0),10)\n",
      "received message = msg(twstarted,event,trustingwalker,none,twstarted(0),10)\n",
      "received message = msg(twstarted,event,trustingwalker,none,twstarted(0),10)\n",
      "received message = msg(twstarted,event,trustingwalker,none,twstarted(0),10)\n"
     ]
    }
   ],
   "source": [
    "##############################################################\n",
    "# trustingwalkerconsole.py\n",
    "# ACTIVATE it.unibo.qak20.robotroommap\\src\\it\\unibo\\ctxtrustingwalker\\MainCtxtrustingwalker.kt\n",
    "##############################################################\n",
    "\n",
    "import paho.mqtt.client as paho\n",
    "\n",
    "### brokerAddr =\"broker.hiqvemq.com\"\n",
    "brokerAddr =\"mqtt.eclipse.org\"\n",
    "\n",
    "#define callback\n",
    "def on_message(client, userdata, message):\n",
    "    print(\"received message =\",str(message.payload.decode(\"utf-8\")))\n",
    "\n",
    "def requestMovecell( x,y ):\n",
    "    msg = \"msg(movetoCell,request,py,trustingwalker,movetoCell(\"+x+\",\"+y+\"),1)\"\n",
    "    client.publish(\"unibo/qak/trustingwalker\",msg) \n",
    "    print(\"requestMovecell done:\" , msg  )\n",
    "\n",
    "def console() :  \n",
    "    print(\"console  STARTS :\"   )\n",
    "    cmd =  str( input() )\n",
    "    while( cmd != \"q\"  ) :\n",
    "        values = cmd.split(\",\")  ## [\"6\",\"3\"]\n",
    "        ## print( values[0] )\n",
    "        requestMovecell( values[0],values[1] )\n",
    "        cmd = str(input() )             \n",
    "\n",
    "##################################################################\n",
    "\n",
    "client= paho.Client(\"pyconsole\")  \n",
    "client.on_message=on_message            # Bind function to callback    \n",
    "\n",
    "client.connect(brokerAddr)              #connect\n",
    "print(\"connected to broker \", brokerAddr)\n",
    "\n",
    "print(\"subscribing to unibo/polar\")\n",
    "client.subscribe(\"unibo/polar\")      #subscribe\n",
    "client.subscribe(\"unibo/qak/py\")      #subscribe at the answer\n",
    "\n",
    "print(\"starting the client loop to receive sonar data\" )\n",
    "client.loop_start()                  #start loop to process received messages\n",
    " \n",
    "console()"
   ]
  },
  {
   "cell_type": "code",
   "execution_count": null,
   "metadata": {},
   "outputs": [],
   "source": []
  }
 ],
 "metadata": {
  "kernelspec": {
   "display_name": "Python 3",
   "language": "python",
   "name": "python3"
  },
  "language_info": {
   "codemirror_mode": {
    "name": "ipython",
    "version": 3
   },
   "file_extension": ".py",
   "mimetype": "text/x-python",
   "name": "python",
   "nbconvert_exporter": "python",
   "pygments_lexer": "ipython3",
   "version": "3.7.3"
  }
 },
 "nbformat": 4,
 "nbformat_minor": 2
}
