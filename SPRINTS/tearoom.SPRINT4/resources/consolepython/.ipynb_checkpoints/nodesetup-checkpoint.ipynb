{
 "cells": [
  {
   "cell_type": "code",
   "execution_count": null,
   "metadata": {},
   "outputs": [],
   "source": [
    "PixieDust extension that enable a Jupyter Notebook user to invoke Node.js commands.\n",
    "https://github.com/pixiedust/pixiedust_node\n",
    "https://medium.com/codait/nodebooks-node-js-data-science-notebooks-aa140bea21ba\n",
    "    \n",
    "    \n",
    "To install the nodejs kernel\n",
    "npm install -g ijavascript\n",
    "ijsinstall\n"
   ]
  },
  {
   "cell_type": "markdown",
   "metadata": {},
   "source": [
    "!pip install pixiedust\n",
    "!pip install pixiedust_node"
   ]
  },
  {
   "cell_type": "code",
   "execution_count": null,
   "metadata": {},
   "outputs": [],
   "source": []
  },
  {
   "cell_type": "code",
   "execution_count": 2,
   "metadata": {},
   "outputs": [
    {
     "name": "stdout",
     "output_type": "stream",
     "text": [
      "Pixiedust database opened successfully\n"
     ]
    },
    {
     "data": {
      "text/html": [
       "\n",
       "        <div style=\"margin:10px\">\n",
       "            <a href=\"https://github.com/ibm-watson-data-lab/pixiedust\" target=\"_new\">\n",
       "                <img src=\"https://github.com/ibm-watson-data-lab/pixiedust/raw/master/docs/_static/pd_icon32.png\" style=\"float:left;margin-right:10px\"/>\n",
       "            </a>\n",
       "            <span>Pixiedust version 1.1.18</span>\n",
       "        </div>\n",
       "        "
      ],
      "text/plain": [
       "<IPython.core.display.HTML object>"
      ]
     },
     "metadata": {},
     "output_type": "display_data"
    },
    {
     "data": {
      "text/html": [
       "\n",
       "            <div style=\"margin:10px\"> \n",
       "            <a href=\"https://github.com/ibm-cds-labs/pixiedust_node\" target=\"_new\"> \n",
       "            <img src=\"https://github.com/ibm-cds-labs/pixiedust_node/raw/master/docs/_images/pdn_icon32.png\" style=\"float:left;margin-right:10px\"/> \n",
       "            </a> \n",
       "            <span>Pixiedust Node.js</span> \n",
       "            </div> \n"
      ],
      "text/plain": [
       "<IPython.core.display.HTML object>"
      ]
     },
     "metadata": {},
     "output_type": "display_data"
    }
   ],
   "source": [
    "import pixiedust_node"
   ]
  },
  {
   "cell_type": "code",
   "execution_count": 2,
   "metadata": {},
   "outputs": [
    {
     "name": "stdout",
     "output_type": "stream",
     "text": [
      "\"2020-06-07T16:06:00.309Z\"\n"
     ]
    }
   ],
   "source": [
    "%%node\n",
    "print(new Date());"
   ]
  },
  {
   "cell_type": "code",
   "execution_count": 3,
   "metadata": {},
   "outputs": [
    {
     "data": {
      "text/html": [
       "Sales are up <b>25%</b>"
      ],
      "text/plain": [
       "<IPython.core.display.HTML object>"
      ]
     },
     "metadata": {},
     "output_type": "display_data"
    }
   ],
   "source": [
    "%%node\n",
    "var str = 'Sales are up <b>25%</b>';\n",
    "html(str)"
   ]
  },
  {
   "cell_type": "code",
   "execution_count": 9,
   "metadata": {
    "pixiedust": {
     "displayParams": {
      "handlerId": "scatterPlot",
      "keyFields": "x",
      "valueFields": "cos"
     }
    }
   },
   "outputs": [
    {
     "data": {
      "text/html": [
       "<style type=\"text/css\">.pd_warning{display:none;}</style><div class=\"pd_warning\"><em>Hey, there's something awesome here! To see it, open this notebook outside GitHub, in a viewer like Jupyter</em></div>\n",
       "        <div class=\"pd_save is-viewer-good\" style=\"padding-right:10px;text-align: center;line-height:initial !important;font-size: xx-large;font-weight: 500;color: coral;\">\n",
       "            \n",
       "        </div>\n",
       "    <div class=\"pd_save is-viewer-good\" id=\"chartFigureed506439\" style=\"overflow-x:auto\">\n",
       "            \n",
       "                    \n",
       "                            <center><img class=\"pd_save\" style=\"max-width:initial !important\" src=\"data:image/png;base64,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\"></center>\n",
       "                        \n",
       "                    \n",
       "                \n",
       "        </div>"
      ],
      "text/plain": [
       "<IPython.core.display.HTML object>"
      ]
     },
     "metadata": {},
     "output_type": "display_data"
    }
   ],
   "source": [
    "%%node\n",
    "var data = [];\n",
    "for (var i = 0; i < 1000; i++) {\n",
    "    var x = 2*Math.PI * i/ 360;\n",
    "    var obj = {\n",
    "      x: x,\n",
    "      i: i,\n",
    "      sin: Math.sin(x),\n",
    "      cos: Math.cos(x),\n",
    "      tan: Math.tan(x)\n",
    "    };\n",
    "    data.push(obj);\n",
    "}\n",
    "display(data); //PixieDust’s display function"
   ]
  },
  {
   "cell_type": "code",
   "execution_count": null,
   "metadata": {},
   "outputs": [],
   "source": []
  }
 ],
 "metadata": {
  "kernelspec": {
   "display_name": "Python 3",
   "language": "python",
   "name": "python3"
  },
  "language_info": {
   "codemirror_mode": {
    "name": "ipython",
    "version": 3
   },
   "file_extension": ".py",
   "mimetype": "text/x-python",
   "name": "python",
   "nbconvert_exporter": "python",
   "pygments_lexer": "ipython3",
   "version": "3.7.3"
  }
 },
 "nbformat": 4,
 "nbformat_minor": 4
}
