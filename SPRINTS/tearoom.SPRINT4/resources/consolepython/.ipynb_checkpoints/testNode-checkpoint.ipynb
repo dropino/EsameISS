{
 "cells": [
  {
   "cell_type": "code",
   "execution_count": 10,
   "metadata": {},
   "outputs": [
    {
     "name": "stdout",
     "output_type": "stream",
     "text": [
      "Hello, World!\n"
     ]
    }
   ],
   "source": [
    "var x = { a:1, b:'two', c: true };\n",
    "var msg = [\"Hello\", \"World!\"].join(\", \");\n",
    "console.log(msg);"
   ]
  },
  {
   "cell_type": "code",
   "execution_count": 14,
   "metadata": {},
   "outputs": [
    {
     "name": "stdout",
     "output_type": "stream",
     "text": [
      "naiveFib(40) = 165580141 (took 3150ms)\n"
     ]
    }
   ],
   "source": [
    "/** naiveFib calculates Fibonacci number in a naive way */\n",
    "function naiveFib(n )  {\n",
    "    if (n > 1) {\n",
    "        return naiveFib(n - 1) + naiveFib(n - 2);\n",
    "    }\n",
    "    return 1;\n",
    "}\n",
    " \n",
    "    // This is 40x slower if you use Python.\n",
    "    const n = 40;\n",
    "    const start = Date.now()\n",
    "    console.log(`naiveFib(${n}) = ${naiveFib(n)} (took ${Date.now() - start}ms)`)\n",
    " "
   ]
  },
  {
   "cell_type": "code",
   "execution_count": null,
   "metadata": {},
   "outputs": [],
   "source": []
  }
 ],
 "metadata": {
  "kernelspec": {
   "display_name": "Javascript (Node.js)",
   "language": "javascript",
   "name": "javascript"
  },
  "language_info": {
   "file_extension": ".js",
   "mimetype": "application/javascript",
   "name": "javascript",
   "version": "8.12.0"
  }
 },
 "nbformat": 4,
 "nbformat_minor": 4
}
